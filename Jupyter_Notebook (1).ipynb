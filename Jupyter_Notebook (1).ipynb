{
 "cells": [
  {
   "cell_type": "markdown",
   "metadata": {},
   "source": [
    "<center>\n",
    "    <img src=\"https://cf-courses-data.s3.us.cloud-object-storage.appdomain.cloud/IBMDeveloperSkillsNetwork-DS0105EN-SkillsNetwork/labs/Module2/images/SN_web_lightmode.png\" width=\"300\" alt=\"cognitiveclass.ai logo\">\n",
    "</center>\n"
   ]
  },
  {
   "cell_type": "markdown",
   "metadata": {},
   "source": [
    "assesment for data science"
   ]
  },
  {
   "cell_type": "markdown",
   "metadata": {},
   "source": [
    "this is the asssignment i have written in end of this course"
   ]
  },
  {
   "cell_type": "markdown",
   "metadata": {},
   "source": [
    "data"
   ]
  },
  {
   "cell_type": "markdown",
   "metadata": {},
   "source": [
    "#### Add your code below following the instructions given in the course\n"
   ]
  },
  {
   "cell_type": "markdown",
   "metadata": {},
   "source": [
    "DATA SCIENCE LIBRATRIES\n",
    "PYTORCH\n",
    "PANDAS\n",
    "NUMPY\n",
    "SEABORN\n",
    "SCIPY\n",
    "TENSORFLOW\n"
   ]
  },
  {
   "cell_type": "code",
   "execution_count": 2,
   "metadata": {},
   "outputs": [
    {
     "data": {
      "text/plain": [
       "'TOOLS FOR DATA SCIENCE\\nTENSOR FLOW\\nPOWERBI\\nTABLEU\\nAPACHE SPARK\\nMATLAB'"
      ]
     },
     "execution_count": 2,
     "metadata": {},
     "output_type": "execute_result"
    }
   ],
   "source": [
    "'''TOOLS FOR DATA SCIENCE\n",
    "TENSOR FLOW\n",
    "POWERBI\n",
    "TABLEU\n",
    "APACHE SPARK\n",
    "MATLAB'''\n"
   ]
  },
  {
   "cell_type": "code",
   "execution_count": null,
   "metadata": {},
   "outputs": [],
   "source": [
    "2*3\n",
    "2+3\n",
    "2//3\n",
    "2&3\n",
    "2-3"
   ]
  },
  {
   "cell_type": "code",
   "execution_count": 5,
   "metadata": {},
   "outputs": [
    {
     "name": "stdout",
     "output_type": "stream",
     "text": [
      "7 10\n"
     ]
    }
   ],
   "source": [
    "a=2\n",
    "b=5\n",
    "c=a+b\n",
    "d=a*b\n",
    "print(c,d)"
   ]
  },
  {
   "cell_type": "markdown",
   "metadata": {},
   "source": [
    "\n"
   ]
  },
  {
   "cell_type": "code",
   "execution_count": 8,
   "metadata": {
    "tags": []
   },
   "outputs": [
    {
     "name": "stdin",
     "output_type": "stream",
     "text": [
      "enter no of minutes 123\n"
     ]
    },
    {
     "name": "stdout",
     "output_type": "stream",
     "text": [
      "2.05\n"
     ]
    }
   ],
   "source": [
    "x=int(input(\"enter no of minutes\"))\n",
    "y=x/60\n",
    "print(y)"
   ]
  },
  {
   "cell_type": "markdown",
   "metadata": {},
   "source": [
    " Create a markdown cell with the title of the notebook. \n",
    "\n",
    " Create a markdown cell for an introduction. \n",
    "\n",
    " Create a markdown cell to list data science languages. \n",
    "\n",
    "Create a markdown cell to list data science libraries. \n",
    "\n",
    "Create a markdown cell with a table of Data Science tools. \n",
    "\n",
    " Create a markdown cell introducing arithmetic expression examples. \n",
    "\n",
    "  Create a code cell to multiply and add numbers. \n",
    "\n",
    " Create a code cell to convert minutes to hours. \n",
    " \n",
    "  Create a markdown cell to indicate the Author’s name. \n",
    "\n",
    " Share your notebook through GitHub \n",
    "\n",
    " Take a screenshot of the first page of the notebook."
   ]
  },
  {
   "cell_type": "markdown",
   "metadata": {},
   "source": [
    "AUTHOR NAME"
   ]
  }
 ],
 "metadata": {
  "kernelspec": {
   "display_name": "Python",
   "language": "python",
   "name": "conda-env-python-py"
  },
  "language_info": {
   "codemirror_mode": {
    "name": "ipython",
    "version": 3
   },
   "file_extension": ".py",
   "mimetype": "text/x-python",
   "name": "python",
   "nbconvert_exporter": "python",
   "pygments_lexer": "ipython3",
   "version": "3.7.12"
  }
 },
 "nbformat": 4,
 "nbformat_minor": 4
}
